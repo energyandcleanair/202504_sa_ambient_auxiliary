{
 "cells": [
  {
   "cell_type": "code",
   "execution_count": 1,
   "id": "9fec9ac6",
   "metadata": {},
   "outputs": [],
   "source": [
    "import xarray as xr\n",
    "import rioxarray as rxr\n",
    "\n",
    "from crea_graphics.geotiff import write_cog\n",
    "from crea_graphics.colors import goodbad_cont"
   ]
  },
  {
   "cell_type": "markdown",
   "id": "53ad333b",
   "metadata": {},
   "source": [
    "PM2.5 data downloaded from https://wustl.app.box.com/v/ACAG-V5GL0502-GWRPM25/folder/293389057727?page=1 "
   ]
  },
  {
   "cell_type": "code",
   "execution_count": 2,
   "id": "b8eca7af",
   "metadata": {},
   "outputs": [],
   "source": [
    "# read netcdf file\n",
    "ds = xr.open_dataset('../data/input/V5GL0502.HybridPM25.Global.202301-202312.nc')\n",
    "pm_da = ds['GWRPM25'].sel(lat=slice(-40, -20), lon=slice(15, 35))\n",
    "\n",
    "\n",
    "# add crs\n",
    "pm_da = pm_da.rio.write_crs(\"epsg:4326\")"
   ]
  },
  {
   "cell_type": "markdown",
   "id": "b6f8d9e7",
   "metadata": {},
   "source": [
    "Save raster as COG."
   ]
  },
  {
   "cell_type": "code",
   "execution_count": 3,
   "id": "415dc1a6",
   "metadata": {},
   "outputs": [],
   "source": [
    "write_cog(pm_da, \n",
    "          vmin=0, \n",
    "          vmax=pm_da.max(), \n",
    "          cmap=goodbad_cont,\n",
    "          output_path= '../data/output/pm25_ZA_2023.tif',\n",
    "          no_alpha=False,\n",
    "          resampling='mode')\n"
   ]
  }
 ],
 "metadata": {
  "kernelspec": {
   "display_name": ".venv",
   "language": "python",
   "name": "python3"
  },
  "language_info": {
   "codemirror_mode": {
    "name": "ipython",
    "version": 3
   },
   "file_extension": ".py",
   "mimetype": "text/x-python",
   "name": "python",
   "nbconvert_exporter": "python",
   "pygments_lexer": "ipython3",
   "version": "3.12.3"
  }
 },
 "nbformat": 4,
 "nbformat_minor": 5
}
